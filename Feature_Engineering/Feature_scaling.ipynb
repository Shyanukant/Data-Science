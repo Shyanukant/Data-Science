{
 "cells": [
  {
   "cell_type": "markdown",
   "id": "58f3abb3",
   "metadata": {},
   "source": [
    "### Use of Feature Scaling\n",
    "\n",
    "1. Linear Regression --- Gradient Descent --- Global Minima\n",
    "2. Alogrithms like KNN, K Means, Hierarichal Clustering -- Eucledian Distance\n",
    "\n",
    "-Every Point has some vectors and direction\n",
    "\n",
    "-Deep Learning Techinque\n",
    "1. ANN -- Global Minima,Gradient\n",
    "2. RNN\n",
    "3. CNN"
   ]
  },
  {
   "cell_type": "markdown",
   "id": "e3b6214c",
   "metadata": {},
   "source": [
    "* Normalization and standardization\n",
    "* Scaling to Minimum and Maximum values\n",
    "* Scaling to Median and Quantiles\n",
    "* Gussian Transformation\n",
    "     1. Logarithmic Transformation\n",
    "     2. Square Root Transformation\n",
    "     3. Exponential Transformation\n",
    "     4. Box Cox Transformation\n",
    "     5. Reciprocal Transformation"
   ]
  },
  {
   "cell_type": "code",
   "execution_count": 1,
   "id": "27e53ed2",
   "metadata": {},
   "outputs": [
    {
     "data": {
      "text/html": [
       "<div>\n",
       "<style scoped>\n",
       "    .dataframe tbody tr th:only-of-type {\n",
       "        vertical-align: middle;\n",
       "    }\n",
       "\n",
       "    .dataframe tbody tr th {\n",
       "        vertical-align: top;\n",
       "    }\n",
       "\n",
       "    .dataframe thead th {\n",
       "        text-align: right;\n",
       "    }\n",
       "</style>\n",
       "<table border=\"1\" class=\"dataframe\">\n",
       "  <thead>\n",
       "    <tr style=\"text-align: right;\">\n",
       "      <th></th>\n",
       "      <th>TV</th>\n",
       "      <th>Radio</th>\n",
       "      <th>Newspaper</th>\n",
       "      <th>Sales</th>\n",
       "    </tr>\n",
       "  </thead>\n",
       "  <tbody>\n",
       "    <tr>\n",
       "      <th>0</th>\n",
       "      <td>230.1</td>\n",
       "      <td>37.8</td>\n",
       "      <td>69.2</td>\n",
       "      <td>22.1</td>\n",
       "    </tr>\n",
       "    <tr>\n",
       "      <th>1</th>\n",
       "      <td>44.5</td>\n",
       "      <td>39.3</td>\n",
       "      <td>45.1</td>\n",
       "      <td>10.4</td>\n",
       "    </tr>\n",
       "    <tr>\n",
       "      <th>2</th>\n",
       "      <td>17.2</td>\n",
       "      <td>45.9</td>\n",
       "      <td>69.3</td>\n",
       "      <td>12.0</td>\n",
       "    </tr>\n",
       "    <tr>\n",
       "      <th>3</th>\n",
       "      <td>151.5</td>\n",
       "      <td>41.3</td>\n",
       "      <td>58.5</td>\n",
       "      <td>16.5</td>\n",
       "    </tr>\n",
       "    <tr>\n",
       "      <th>4</th>\n",
       "      <td>180.8</td>\n",
       "      <td>10.8</td>\n",
       "      <td>58.4</td>\n",
       "      <td>17.9</td>\n",
       "    </tr>\n",
       "  </tbody>\n",
       "</table>\n",
       "</div>"
      ],
      "text/plain": [
       "      TV  Radio  Newspaper  Sales\n",
       "0  230.1   37.8       69.2   22.1\n",
       "1   44.5   39.3       45.1   10.4\n",
       "2   17.2   45.9       69.3   12.0\n",
       "3  151.5   41.3       58.5   16.5\n",
       "4  180.8   10.8       58.4   17.9"
      ]
     },
     "execution_count": 1,
     "metadata": {},
     "output_type": "execute_result"
    }
   ],
   "source": [
    "import pandas as pd \n",
    "import numpy as np\n",
    "import matplotlib.pyplot as plt\n",
    "df = pd.read_csv('Sales.csv')\n",
    "df.head()"
   ]
  },
  {
   "cell_type": "code",
   "execution_count": 2,
   "id": "95172b37",
   "metadata": {},
   "outputs": [
    {
     "name": "stdout",
     "output_type": "stream",
     "text": [
      "<class 'pandas.core.frame.DataFrame'>\n",
      "RangeIndex: 200 entries, 0 to 199\n",
      "Data columns (total 4 columns):\n",
      " #   Column     Non-Null Count  Dtype  \n",
      "---  ------     --------------  -----  \n",
      " 0   TV         200 non-null    float64\n",
      " 1   Radio      200 non-null    float64\n",
      " 2   Newspaper  200 non-null    float64\n",
      " 3   Sales      200 non-null    float64\n",
      "dtypes: float64(4)\n",
      "memory usage: 6.4 KB\n"
     ]
    }
   ],
   "source": [
    "df.info()"
   ]
  },
  {
   "cell_type": "markdown",
   "id": "a20390ab",
   "metadata": {},
   "source": [
    "# Noramlization"
   ]
  },
  {
   "cell_type": "markdown",
   "id": "5fc62d07",
   "metadata": {},
   "source": [
    "## Min Max Scaling - use deep learning technique(CNN)\n",
    "its Scaled the vlaues between 0 and 1\n",
    "formula = (x-x_min)/(x_max - x_min)"
   ]
  },
  {
   "cell_type": "code",
   "execution_count": 3,
   "id": "1631670a",
   "metadata": {},
   "outputs": [
    {
     "data": {
      "text/html": [
       "<div>\n",
       "<style scoped>\n",
       "    .dataframe tbody tr th:only-of-type {\n",
       "        vertical-align: middle;\n",
       "    }\n",
       "\n",
       "    .dataframe tbody tr th {\n",
       "        vertical-align: top;\n",
       "    }\n",
       "\n",
       "    .dataframe thead th {\n",
       "        text-align: right;\n",
       "    }\n",
       "</style>\n",
       "<table border=\"1\" class=\"dataframe\">\n",
       "  <thead>\n",
       "    <tr style=\"text-align: right;\">\n",
       "      <th></th>\n",
       "      <th>TV</th>\n",
       "      <th>Radio</th>\n",
       "      <th>Newspaper</th>\n",
       "      <th>Sales</th>\n",
       "    </tr>\n",
       "  </thead>\n",
       "  <tbody>\n",
       "    <tr>\n",
       "      <th>0</th>\n",
       "      <td>0.775786</td>\n",
       "      <td>0.762097</td>\n",
       "      <td>0.605981</td>\n",
       "      <td>0.807087</td>\n",
       "    </tr>\n",
       "    <tr>\n",
       "      <th>1</th>\n",
       "      <td>0.148123</td>\n",
       "      <td>0.792339</td>\n",
       "      <td>0.394019</td>\n",
       "      <td>0.346457</td>\n",
       "    </tr>\n",
       "    <tr>\n",
       "      <th>2</th>\n",
       "      <td>0.055800</td>\n",
       "      <td>0.925403</td>\n",
       "      <td>0.606860</td>\n",
       "      <td>0.409449</td>\n",
       "    </tr>\n",
       "    <tr>\n",
       "      <th>3</th>\n",
       "      <td>0.509976</td>\n",
       "      <td>0.832661</td>\n",
       "      <td>0.511873</td>\n",
       "      <td>0.586614</td>\n",
       "    </tr>\n",
       "    <tr>\n",
       "      <th>4</th>\n",
       "      <td>0.609063</td>\n",
       "      <td>0.217742</td>\n",
       "      <td>0.510994</td>\n",
       "      <td>0.641732</td>\n",
       "    </tr>\n",
       "  </tbody>\n",
       "</table>\n",
       "</div>"
      ],
      "text/plain": [
       "         TV     Radio  Newspaper     Sales\n",
       "0  0.775786  0.762097   0.605981  0.807087\n",
       "1  0.148123  0.792339   0.394019  0.346457\n",
       "2  0.055800  0.925403   0.606860  0.409449\n",
       "3  0.509976  0.832661   0.511873  0.586614\n",
       "4  0.609063  0.217742   0.510994  0.641732"
      ]
     },
     "execution_count": 3,
     "metadata": {},
     "output_type": "execute_result"
    }
   ],
   "source": [
    "from sklearn.preprocessing import MinMaxScaler\n",
    "scaler = MinMaxScaler()\n",
    "minmax = scaler.fit_transform(df)\n",
    "df_minmax = pd.DataFrame(minmax, columns=df.columns)\n",
    "df_minmax.head()"
   ]
  },
  {
   "cell_type": "code",
   "execution_count": 4,
   "id": "27111a91",
   "metadata": {},
   "outputs": [
    {
     "data": {
      "text/plain": [
       "array([<AxesSubplot:title={'center':'TV'}>,\n",
       "       <AxesSubplot:title={'center':'Radio'}>,\n",
       "       <AxesSubplot:title={'center':'Newspaper'}>,\n",
       "       <AxesSubplot:title={'center':'Sales'}>], dtype=object)"
      ]
     },
     "execution_count": 4,
     "metadata": {},
     "output_type": "execute_result"
    },
    {
     "data": {
      "image/png": "[encoded data removed]",
      "text/plain": [
       "<Figure size 1440x432 with 4 Axes>"
      ]
     },
     "metadata": {
      "needs_background": "light"
     },
     "output_type": "display_data"
    }
   ],
   "source": [
    "fig, axes = plt.subplots(1,4, figsize=(20,6))\n",
    "df_minmax.hist(bins=20, ax=axes)"
   ]
  },
  {
   "cell_type": "markdown",
   "id": "3b7054fa",
   "metadata": {},
   "source": [
    "# Standardization"
   ]
  },
  {
   "cell_type": "markdown",
   "id": "2d525d56",
   "metadata": {},
   "source": [
    "We try to tranform all the numerical variables or features t0 a simillar scale(concending the mean value to zero).\n",
    "Standardization means centering the variable at zero\n",
    "\n",
    "z = x - mean/ standard deviation"
   ]
  },
  {
   "cell_type": "code",
   "execution_count": 5,
   "id": "25ada6f7",
   "metadata": {},
   "outputs": [
    {
     "data": {
      "text/plain": [
       "0.967424597376304"
      ]
     },
     "execution_count": 5,
     "metadata": {},
     "output_type": "execute_result"
    }
   ],
   "source": [
    "# tranform first value of tv variable\n",
    "a = df['TV'][0] - df['TV'].mean()\n",
    "b = df['TV'].std()\n",
    "a/b"
   ]
  },
  {
   "cell_type": "code",
   "execution_count": 6,
   "id": "4416547e",
   "metadata": {},
   "outputs": [],
   "source": [
    "# using sklearn for apply this formulas into dataset\n",
    "from sklearn.preprocessing import StandardScaler\n",
    "scaler = StandardScaler()\n",
    "df_scaled = scaler.fit_transform(df)"
   ]
  },
  {
   "cell_type": "code",
   "execution_count": 7,
   "id": "43a3cc20",
   "metadata": {},
   "outputs": [
    {
     "data": {
      "text/plain": [
       "array([[ 9.69852266e-01,  9.81522472e-01,  1.77894547e+00,\n",
       "         1.32231867e+00],\n",
       "       [-1.19737623e+00,  1.08280781e+00,  6.69578760e-01,\n",
       "        -8.97514665e-01],\n",
       "       [-1.51615499e+00,  1.52846331e+00,  1.78354865e+00,\n",
       "        -5.93947713e-01],\n",
       "       [ 5.20496822e-02,  1.21785493e+00,  1.28640506e+00,\n",
       "         2.59834337e-01],\n",
       "       [ 3.94182198e-01, -8.41613655e-01,  1.28180188e+00,\n",
       "         5.25455420e-01],\n",
       "       [-1.61540845e+00,  1.73103399e+00,  2.04592999e+00,\n",
       "        -1.50464857e+00],\n",
       "       [-1.04557682e+00,  6.43904671e-01, -3.24708413e-01,\n",
       "        -6.31893582e-01],\n",
       "       [-3.13436589e-01, -2.47406325e-01, -8.72486994e-01,\n",
       "        -3.66272500e-01],\n",
       "       [-1.61657614e+00, -1.42906863e+00, -1.36042422e+00,\n",
       "        -1.95999899e+00],\n",
       "       [ 6.16042873e-01, -1.39530685e+00, -4.30581584e-01,\n",
       "         8.90779273e-02],\n",
       "       [-9.45155670e-01, -1.17923146e+00, -2.92486143e-01,\n",
       "        -4.80110107e-01],\n",
       "       [ 7.90028350e-01,  4.96973404e-02, -1.22232878e+00,\n",
       "         4.30590748e-01],\n",
       "       [-1.43908760e+00,  7.99208859e-01,  1.62704048e+00,\n",
       "        -1.12518988e+00],\n",
       "       [-5.78501712e-01, -1.05768905e+00, -1.07502697e+00,\n",
       "        -2.71407828e-01],\n",
       "       [ 6.66253447e-01,  6.50657027e-01,  7.11007392e-01,\n",
       "         7.34157699e-01],\n",
       "       [ 5.64664612e-01,  1.65000572e+00,  1.02862691e+00,\n",
       "         1.37923747e+00],\n",
       "       [-9.25304978e-01,  9.00494200e-01,  3.84117072e+00,\n",
       "        -4.99083041e-01],\n",
       "       [ 1.56887609e+00,  1.10306488e+00,  1.16211917e+00,\n",
       "         1.75869616e+00],\n",
       "       [-9.08957349e-01, -1.86635121e-01, -5.64073843e-01,\n",
       "        -7.26758255e-01],\n",
       "       [ 3.00679600e-03,  4.29449843e-02, -5.27248393e-01,\n",
       "        -1.00651417e-01],\n",
       "       [ 8.33232798e-01,  2.99534513e-01,  1.05164281e+00,\n",
       "         5.44428354e-01],\n",
       "       [ 1.05509347e+00, -1.22649795e+00, -3.24708413e-01,\n",
       "         4.49563682e-01],\n",
       "       [-1.56286250e+00, -4.97243498e-01,  8.76721921e-01,\n",
       "        -1.80821552e+00],\n",
       "       [ 9.48833887e-01, -4.29719938e-01, -2.00422516e-01,\n",
       "         1.01875172e+00],\n",
       "       [-9.89527805e-01, -7.20071247e-01, -5.64073843e-01,\n",
       "        -1.03032521e+00],\n",
       "       [ 1.35285385e+00, -1.33453565e+00, -5.08835667e-01,\n",
       "         3.54699010e-01],\n",
       "       [-4.83714657e-02,  4.07572210e-01, -8.26455181e-01,\n",
       "        -2.47596795e-02],\n",
       "       [ 1.08662104e+00, -4.43224650e-01, -3.52327501e-01,\n",
       "         1.09464345e+00],\n",
       "       [ 1.18820988e+00,  2.59020377e-01, -3.52327501e-01,\n",
       "         7.15184765e-01],\n",
       "       [-8.92609721e-01, -4.90491142e-01,  4.71641962e-01,\n",
       "        -8.78541730e-01],\n",
       "       [ 1.70316018e+00,  3.40048650e-01,  5.82118314e-01,\n",
       "         1.18950813e+00],\n",
       "       [-3.98677796e-01, -3.95958157e-01,  3.70371972e-01,\n",
       "        -6.12920648e-01],\n",
       "       [-5.82004775e-01, -1.46958277e+00, -2.55016247e-02,\n",
       "        -3.66272500e-01],\n",
       "       [ 1.38438142e+00, -2.20396901e-01, -1.39264649e+00,\n",
       "         4.30590748e-01],\n",
       "       [-5.99520091e-01, -1.47633512e+00, -1.06582061e+00,\n",
       "        -6.12920648e-01],\n",
       "       [ 1.67747105e+00, -1.29402151e+00, -1.01518562e+00,\n",
       "         5.06482486e-01],\n",
       "       [ 1.39956136e+00,  1.38666383e+00, -1.17629696e+00,\n",
       "         1.94842550e+00],\n",
       "       [-8.44734522e-01,  1.76479577e+00,  6.97197848e-01,\n",
       "        -8.16784829e-02],\n",
       "       [-1.21372386e+00,  2.32010953e-01,  2.09260624e-01,\n",
       "        -9.54433468e-01],\n",
       "       [ 9.45330823e-01,  9.74770116e-01,  6.65620024e-02,\n",
       "         1.20848106e+00],\n",
       "       [ 6.47570443e-01, -6.50927121e-02,  4.81492770e-02,\n",
       "         2.78807272e-01],\n",
       "       [ 3.49810063e-01,  6.84418807e-01,  3.74975153e-01,\n",
       "         3.73671944e-01],\n",
       "       [ 1.71133400e+00,  2.99534513e-01, -1.32359877e+00,\n",
       "         1.05669758e+00],\n",
       "       [ 6.98948705e-01, -1.00367020e+00, -1.91216154e-01,\n",
       "         5.25455420e-01],\n",
       "       [-1.42390765e+00,  1.64487393e-01,  5.86721496e-01,\n",
       "        -1.25800042e+00],\n",
       "       [ 3.27623995e-01, -5.15880000e-02,  4.35460956e-02,\n",
       "         1.83942600e-01],\n",
       "       [-6.69581357e-01, -9.02384859e-01,  2.36879713e-01,\n",
       "        -8.59568796e-01],\n",
       "       [ 1.08428567e+00,  1.23135965e+00, -5.54867481e-01,\n",
       "         1.53102095e+00],\n",
       "       [ 9.35989321e-01, -5.03995854e-01,  8.90531465e-01,\n",
       "         8.85941175e-01],\n",
       "       [-9.35814168e-01, -7.80842451e-01,  2.87514708e-01,\n",
       "        -1.03032521e+00],\n",
       "       [ 6.16042873e-01, -1.36154507e+00,  1.86244718e-01,\n",
       "         2.40861403e-01],\n",
       "       [-5.44638766e-01, -9.22641928e-01, -1.24074150e+00,\n",
       "        -8.40595861e-01],\n",
       "       [ 8.09879042e-01,  1.24486436e+00,  4.16403786e-01,\n",
       "         1.41718334e+00],\n",
       "       [ 4.15200577e-01,  1.54872038e+00,  1.29561142e+00,\n",
       "         1.15156226e+00],\n",
       "       [ 1.35051848e+00,  3.73810430e-01, -6.74550196e-01,\n",
       "         9.61832913e-01],\n",
       "       [ 6.05533683e-01,  1.76479577e+00,  1.35545278e+00,\n",
       "         1.62588562e+00],\n",
       "       [-1.63175608e+00,  3.26543937e-01,  4.99261050e-01,\n",
       "        -1.82718845e+00],\n",
       "       [-1.26606546e-01, -2.74415749e-01, -6.42327927e-01,\n",
       "        -3.66272500e-01],\n",
       "       [ 7.44488528e-01,  1.77830048e+00,  3.28943340e-01,\n",
       "         1.64485855e+00],\n",
       "       [ 7.43320840e-01,  4.21076922e-01, -9.78360166e-01,\n",
       "         6.20320092e-01],\n",
       "       [-1.09228433e+00, -1.43582099e+00, -4.21375221e-01,\n",
       "        -1.33389216e+00],\n",
       "       [ 1.33417085e+00,  1.31238792e+00,  1.11148417e+00,\n",
       "         1.72075029e+00],\n",
       "       [ 1.07727954e+00, -5.24252922e-01, -1.49787521e-01,\n",
       "         1.05669758e+00],\n",
       "       [-5.17781948e-01,  4.27829278e-01, -1.01978880e+00,\n",
       "        -2.14489024e-01],\n",
       "       [-1.86158622e-01,  1.31914027e+00, -7.61366196e-02,\n",
       "         1.64969665e-01],\n",
       "       [-9.11292725e-01, -9.42898996e-01, -1.36502740e+00,\n",
       "        -7.26758255e-01],\n",
       "       [-1.34917564e+00,  9.02114765e-02, -1.30518604e+00,\n",
       "        -7.83677058e-01],\n",
       "       [-9.04082253e-02, -5.91776482e-01, -9.36931533e-01,\n",
       "        -3.28326631e-01],\n",
       "       [ 1.05509347e+00,  2.86029801e-01, -9.00106083e-01,\n",
       "         7.15184765e-01],\n",
       "       [ 8.14549794e-01,  1.39341619e+00, -1.54390703e-01,\n",
       "         1.36026454e+00],\n",
       "       [ 6.07869059e-01,  4.95352838e-01,  3.74975153e-01,\n",
       "         6.01347158e-01],\n",
       "       [-4.34876116e-01, -6.05281194e-01,  5.27524584e-02,\n",
       "        -5.18055976e-01],\n",
       "       [-1.40405696e+00,  6.57409383e-01, -5.18042030e-01,\n",
       "        -1.20108162e+00],\n",
       "       [-2.06009314e-01, -1.18598381e+00,  3.43397329e-02,\n",
       "        -7.83677058e-01],\n",
       "       [ 7.74848409e-01,  9.02114765e-02, -8.03439274e-01,\n",
       "         3.54699010e-01],\n",
       "       [-1.51965805e+00,  1.37991148e+00,  2.70878810e+00,\n",
       "        -1.22005455e+00],\n",
       "       [-1.39588315e+00, -1.46283041e+00, -4.53597491e-01,\n",
       "        -1.56156737e+00],\n",
       "       [-3.09933525e-01,  3.53553362e-01, -7.52804279e-01,\n",
       "        -1.76543155e-01],\n",
       "       [-1.65394214e+00,  4.48086346e-01, -9.73756984e-01,\n",
       "        -1.86513432e+00],\n",
       "       [-3.62479475e-01, -1.05093669e+00, -3.43121138e-01,\n",
       "        -7.83677058e-01],\n",
       "       [-8.24883830e-01,  2.32010953e-01, -3.79946589e-01,\n",
       "        -6.31893582e-01],\n",
       "       [ 1.08311798e+00, -1.29402151e+00,  2.92117889e-01,\n",
       "         4.11617813e-01],\n",
       "       [-8.37728396e-01, -2.00139833e-01,  8.95779092e-02,\n",
       "        -7.26758255e-01],\n",
       "       [-9.18298852e-01,  1.43393033e+00,  2.32276531e-01,\n",
       "        -2.90380762e-01],\n",
       "       [ 7.76016097e-01,  1.33264499e+00,  1.49419267e-01,\n",
       "         1.24642693e+00],\n",
       "       [ 5.38975481e-01, -3.28434597e-01,  1.61783412e+00,\n",
       "         9.61832913e-01],\n",
       "       [-8.26051518e-01,  2.86029801e-01, -6.69947015e-01,\n",
       "        -5.93947713e-01],\n",
       "       [-4.24366926e-01,  1.17058844e+00,  1.50275459e+00,\n",
       "         1.64969665e-01],\n",
       "       [-6.85928986e-01,  1.50982681e-01,  1.97227908e+00,\n",
       "        -4.23191303e-01],\n",
       "       [-4.34876116e-01,  1.65675807e+00,  9.59579186e-01,\n",
       "         2.97780206e-01],\n",
       "       [-1.48792614e-01, -1.24000266e+00, -9.78360166e-01,\n",
       "        -2.14489024e-01],\n",
       "       [-1.38303858e+00, -1.46958277e+00,  1.12593816e-01,\n",
       "        -1.48567563e+00],\n",
       "       [ 8.25058983e-01,  6.91171163e-01,  1.30942097e+00,\n",
       "         8.10049437e-01],\n",
       "       [ 1.21273132e+00,  8.93741844e-01,  1.92164409e+00,\n",
       "         1.34129160e+00],\n",
       "       [-4.62900623e-01, -6.25538262e-01, -9.04709264e-01,\n",
       "        -6.88812386e-01],\n",
       "       [ 1.89836839e-01,  5.62876398e-01,  1.02862691e+00,\n",
       "         3.35726075e-01],\n",
       "       [ 5.90353742e-01, -1.33453565e+00, -1.13486833e+00,\n",
       "         2.97780206e-01],\n",
       "       [ 4.42057396e-01, -1.52873340e-01, -3.93756133e-01,\n",
       "         1.01875172e+00],\n",
       "       [ 1.66579418e+00,  1.28537849e+00,  9.50372823e-01,\n",
       "         1.94842550e+00],\n",
       "       [-1.38283424e-01,  1.24486436e+00,  7.06404211e-01,\n",
       "         3.92644879e-01],\n",
       "       [ 8.79940308e-01, -1.28051680e+00,  8.85928284e-01,\n",
       "         2.97780206e-01],\n",
       "       [ 1.74402926e+00,  8.80237132e-01,  3.23815396e+00,\n",
       "         1.64485855e+00],\n",
       "       [ 1.55486384e+00, -8.88880147e-01, -4.21375221e-01,\n",
       "         8.85941175e-01],\n",
       "       [ 4.77088029e-01, -4.09462869e-01, -5.82486569e-01,\n",
       "         8.66968240e-01],\n",
       "       [ 1.06443498e+00,  7.45190011e-01, -1.16248742e+00,\n",
       "         1.05669758e+00],\n",
       "       [-1.06755854e-01,  1.56222509e+00,  1.30942097e+00,\n",
       "        -2.47596795e-02],\n",
       "       [-1.42507534e+00, -8.28108943e-01, -3.93111688e-02,\n",
       "        -1.50464857e+00],\n",
       "       [-6.61407543e-01, -1.55061104e+00, -3.38517957e-01,\n",
       "        -5.93947713e-01],\n",
       "       [-1.56403019e+00, -1.54385868e+00, -2.28041604e-01,\n",
       "        -1.86513432e+00],\n",
       "       [ 1.26527727e+00,  2.45515665e-01, -1.15328106e+00,\n",
       "         8.85941175e-01],\n",
       "       [ 9.19641692e-01, -1.01717491e+00,  1.19434143e+00,\n",
       "         6.20320092e-01],\n",
       "       [ 1.10530405e+00,  9.95027184e-01, -3.38517957e-01,\n",
       "         1.26539986e+00],\n",
       "       [ 3.34630122e-01, -5.31005278e-01, -1.29597968e+00,\n",
       "         3.73671944e-01],\n",
       "       [ 7.30476274e-01, -1.79882765e-01, -9.13915627e-01,\n",
       "         1.09464345e+00],\n",
       "       [-8.03865450e-01,  1.58923451e+00,  1.81641536e-01,\n",
       "        -1.00651417e-01],\n",
       "       [-8.40063771e-01,  7.92456503e-01,  1.01942054e+00,\n",
       "        -4.80110107e-01],\n",
       "       [-9.15759131e-02, -6.05281194e-01, -2.28041604e-01,\n",
       "        -5.56001844e-01],\n",
       "       [-8.24883830e-01, -1.51684926e+00, -7.25185191e-01,\n",
       "        -1.08724401e+00],\n",
       "       [-2.49213762e-01,  9.20751268e-01,  2.23926360e+00,\n",
       "         1.45996731e-01],\n",
       "       [-1.49046586e+00, -4.90491142e-01, -3.79946589e-01,\n",
       "        -1.61848617e+00],\n",
       "       [-6.70544700e-02,  2.38763309e-01,  7.20213755e-01,\n",
       "         7.01049928e-02],\n",
       "       [-1.49747198e+00, -1.05606848e-01,  9.13547372e-01,\n",
       "        -1.54259444e+00],\n",
       "       [ 8.98623313e-01, -1.40881156e+00, -6.88359740e-01,\n",
       "         2.78807272e-01],\n",
       "       [-2.79573643e-01,  7.65447079e-01, -8.35661544e-01,\n",
       "         1.31861895e-02],\n",
       "       [ 9.62846140e-01,  6.10142891e-01,  2.00910454e+00,\n",
       "         8.66968240e-01],\n",
       "       [-6.98773552e-01, -7.74090095e-01, -2.14232060e-01,\n",
       "        -8.59568796e-01],\n",
       "       [-1.62591764e+00,  1.05579839e+00,  9.22753735e-01,\n",
       "        -1.61848617e+00],\n",
       "       [-7.80511695e-01, -1.57086811e+00, -9.82963347e-01,\n",
       "        -6.12920648e-01],\n",
       "       [ 8.55418865e-01,  1.73778635e+00, -1.25915423e+00,\n",
       "         1.81561496e+00],\n",
       "       [-1.02105537e+00, -7.60585383e-01,  5.77515133e-01,\n",
       "        -1.03032521e+00],\n",
       "       [-1.70882347e+00,  1.10306488e+00, -1.00597925e+00,\n",
       "        -2.56713290e+00],\n",
       "       [ 1.37971067e+00, -1.37504978e+00,  5.72911952e-01,\n",
       "         4.87509551e-01],\n",
       "       [-1.61891151e+00,  2.65772733e-01, -1.30978922e+00,\n",
       "        -1.78924258e+00],\n",
       "       [ 8.49580427e-01,  6.91171163e-01,  6.69578760e-01,\n",
       "         8.47995306e-01],\n",
       "       [-1.28612050e+00,  1.03554132e+00,  1.61323094e+00,\n",
       "        -8.21622927e-01],\n",
       "       [-1.15300409e+00,  1.60273923e+00, -1.01518562e+00,\n",
       "        -6.69839451e-01],\n",
       "       [-1.41806922e+00,  1.06255074e+00, -9.78360166e-01,\n",
       "        -1.06827108e+00],\n",
       "       [ 1.47896413e+00,  3.80562786e-01,  1.34164324e+00,\n",
       "         1.07567052e+00],\n",
       "       [-1.21489154e+00,  1.77992105e-01, -4.62803854e-01,\n",
       "        -1.04929814e+00],\n",
       "       [ 4.42057396e-01,  1.39341619e+00, -1.32820195e+00,\n",
       "         1.05669758e+00],\n",
       "       [-8.59914463e-01, -4.22967582e-01, -8.12645637e-01,\n",
       "        -8.02649993e-01],\n",
       "       [ 5.44813920e-01,  8.19465927e-01,  2.07354907e+00,\n",
       "         7.72103568e-01],\n",
       "       [ 8.57754241e-01,  6.70914095e-01,  3.38149702e-01,\n",
       "         9.42859978e-01],\n",
       "       [-4.95595880e-01, -1.18598381e+00,  1.77038355e-01,\n",
       "        -8.97514665e-01],\n",
       "       [-5.93681653e-01, -5.71519414e-01,  3.84181516e-01,\n",
       "        -5.37028910e-01],\n",
       "       [-7.87313476e-02, -1.44257334e+00, -9.92169710e-01,\n",
       "        -9.16487599e-01],\n",
       "       [ 1.08662104e+00, -1.07794612e+00, -1.00597925e+00,\n",
       "         5.82374223e-01],\n",
       "       [ 1.12281936e+00,  1.73778635e+00,  6.32753309e-01,\n",
       "         1.94842550e+00],\n",
       "       [-1.27327593e+00,  1.15033137e+00, -8.58677450e-01,\n",
       "        -8.02649993e-01],\n",
       "       [-1.19504085e+00,  1.71239749e-01, -4.58200672e-01,\n",
       "        -9.54433468e-01],\n",
       "       [ 1.56070228e+00, -6.32290618e-01,  2.96721070e-01,\n",
       "         1.83942600e-01],\n",
       "       [-3.04095087e-01, -1.00367020e+00,  8.35293289e-01,\n",
       "        -6.69839451e-01],\n",
       "       [ 5.90353742e-01,  2.43084817e-03, -7.52804279e-01,\n",
       "         2.78807272e-01],\n",
       "       [ 2.83251860e-01,  1.10981724e+00,  3.28943340e-01,\n",
       "         1.64969665e-01],\n",
       "       [ 4.75920341e-01, -1.46120984e-01, -9.69153803e-01,\n",
       "         1.03772465e+00],\n",
       "       [-1.66912209e+00, -7.87594807e-01, -1.14407469e+00,\n",
       "        -2.26356595e+00],\n",
       "       [-6.20538471e-01,  1.36640677e+00,  9.18150553e-01,\n",
       "         3.21591239e-02],\n",
       "       [ 3.21989902e-02, -1.48308748e+00, -2.87882962e-01,\n",
       "        -9.54433468e-01],\n",
       "       [-1.58037782e+00,  9.20751268e-01,  6.74181942e-01,\n",
       "        -1.48567563e+00],\n",
       "       [-1.79152496e-01, -3.28434597e-01,  1.86244718e-01,\n",
       "        -4.23191303e-01],\n",
       "       [ 2.97264113e-01, -3.48691665e-01,  6.72064478e-03,\n",
       "         2.40861403e-01],\n",
       "       [-7.16288868e-01,  8.46475352e-01,  8.62912377e-01,\n",
       "        -3.47299565e-01],\n",
       "       [ 4.82926468e-01, -3.48691665e-01, -2.28041604e-01,\n",
       "         9.04914109e-01],\n",
       "       [ 1.92172214e-01,  9.13998912e-01, -1.06582061e+00,\n",
       "         5.44428354e-01],\n",
       "       [-3.48467222e-01, -5.78271770e-01, -1.15788424e+00,\n",
       "        -6.12920648e-01],\n",
       "       [ 1.02123053e+00, -1.34128800e+00,  2.49704176e+00,\n",
       "         3.35726075e-01],\n",
       "       [-1.50798117e+00,  9.68017760e-01, -4.12168859e-01,\n",
       "        -1.35286509e+00],\n",
       "       [ 6.97781017e-01, -1.21974559e+00, -5.13438849e-01,\n",
       "         3.92644879e-01],\n",
       "       [ 7.98202165e-01,  2.26879163e-02,  1.24497643e+00,\n",
       "         3.73671944e-01],\n",
       "       [ 1.60273904e+00, -8.55118367e-01, -1.11185242e+00,\n",
       "         9.23887044e-01],\n",
       "       [-1.13315340e+00, -7.87594807e-01, -5.59470662e-01,\n",
       "        -1.27697335e+00],\n",
       "       [ 2.03849092e-01, -1.59625696e-01,  7.75451931e-01,\n",
       "         4.49563682e-01],\n",
       "       [-1.48813048e+00, -2.13644545e-01, -6.23915201e-01,\n",
       "        -1.42875683e+00],\n",
       "       [ 2.49388915e-01, -1.09145083e+00, -8.17248818e-01,\n",
       "         2.97780206e-01],\n",
       "       [ 8.79940308e-01, -1.34128800e+00, -8.03439274e-01,\n",
       "         2.59834337e-01],\n",
       "       [ 1.51633014e+00,  1.73103399e+00,  5.17673775e-01,\n",
       "         2.25199246e+00],\n",
       "       [ 1.18353913e+00,  4.68343414e-01, -4.72010216e-01,\n",
       "         9.61832913e-01],\n",
       "       [ 2.70407294e-01, -1.04418434e+00,  2.13863806e-01,\n",
       "         2.97780206e-01],\n",
       "       [ 1.51399477e+00, -1.41556392e+00, -3.15502050e-01,\n",
       "         3.16753141e-01],\n",
       "       [ 2.16693657e-01, -8.95632503e-01, -5.96296113e-01,\n",
       "         4.68536617e-01],\n",
       "       [ 1.11601758e-01, -1.39530685e+00, -1.02439198e+00,\n",
       "         7.01049928e-02],\n",
       "       [ 8.34400486e-01, -1.20624088e+00, -1.45184340e-01,\n",
       "         3.92644879e-01],\n",
       "       [-1.06075676e+00, -1.18598381e+00, -3.93111688e-02,\n",
       "        -1.22005455e+00],\n",
       "       [ 1.64127273e+00,  1.33264499e+00,  1.89862818e+00,\n",
       "         2.10020898e+00],\n",
       "       [ 1.24659427e+00, -1.32616272e-01, -2.55016247e-02,\n",
       "         4.68536617e-01],\n",
       "       [ 6.76762637e-01,  1.47444446e+00, -5.04232486e-01,\n",
       "         1.41718334e+00],\n",
       "       [-8.80728498e-02, -1.42906863e+00, -1.82009791e-01,\n",
       "        -9.16487599e-01],\n",
       "       [ 5.14454038e-01,  3.67058074e-01, -5.68677025e-01,\n",
       "         4.11617813e-01],\n",
       "       [ 1.62258973e+00, -6.32290618e-01, -1.23613832e+00,\n",
       "         1.09464345e+00],\n",
       "       [-1.49863967e+00, -7.53833027e-01, -3.29311594e-01,\n",
       "        -1.59951324e+00],\n",
       "       [-1.25576062e+00,  1.20435022e+00, -1.13947151e+00,\n",
       "        -8.21622927e-01],\n",
       "       [-8.35393020e-01, -8.41613655e-01, -1.13026515e+00,\n",
       "        -6.12920648e-01],\n",
       "       [-1.51615499e+00, -1.29402151e+00,  4.81492770e-02,\n",
       "        -1.75129672e+00],\n",
       "       [ 2.30705910e-01,  1.26512143e+00, -1.24074150e+00,\n",
       "         8.47995306e-01],\n",
       "       [ 3.10313024e-02,  8.32970639e-01, -1.13026515e+00,\n",
       "         4.11617813e-01],\n",
       "       [-1.27094056e+00, -1.32103093e+00, -7.71217005e-01,\n",
       "        -1.42875683e+00],\n",
       "       [-6.17035408e-01, -1.24000266e+00, -1.03359834e+00,\n",
       "        -2.14489024e-01],\n",
       "       [ 3.49810063e-01, -9.42898996e-01, -1.11185242e+00,\n",
       "        -6.27055484e-02],\n",
       "       [ 1.59456522e+00,  1.26512143e+00,  1.64085003e+00,\n",
       "         1.96739844e+00],\n",
       "       [ 9.93206022e-01, -9.90165488e-01, -1.00597925e+00,\n",
       "         6.20320092e-01]])"
      ]
     },
     "execution_count": 7,
     "metadata": {},
     "output_type": "execute_result"
    }
   ],
   "source": [
    "df_scaled"
   ]
  },
  {
   "cell_type": "code",
   "execution_count": 8,
   "id": "9f8214fa",
   "metadata": {},
   "outputs": [
    {
     "data": {
      "text/plain": [
       "(array([15., 15.,  9., 11., 12.,  9., 10.,  7., 11.,  7., 10., 13.,  4.,\n",
       "        10., 11., 10., 10., 11.,  6.,  9.]),\n",
       " array([-1.57086811, -1.40340968, -1.23595125, -1.06849282, -0.90103439,\n",
       "        -0.73357596, -0.56611753, -0.3986591 , -0.23120067, -0.06374224,\n",
       "         0.10371619,  0.27117462,  0.43863305,  0.60609148,  0.77354991,\n",
       "         0.94100834,  1.10846677,  1.27592519,  1.44338362,  1.61084205,\n",
       "         1.77830048]),\n",
       " <BarContainer object of 20 artists>)"
      ]
     },
     "execution_count": 8,
     "metadata": {},
     "output_type": "execute_result"
    },
    {
     "data": {
      "image/png": "[encoded data removed]",
      "text/plain": [
       "<Figure size 432x288 with 1 Axes>"
      ]
     },
     "metadata": {
      "needs_background": "light"
     },
     "output_type": "display_data"
    }
   ],
   "source": [
    "plt.hist(df_scaled[:,1],bins=20)"
   ]
  },
  {
   "cell_type": "code",
   "execution_count": 9,
   "id": "ef0e7aaf",
   "metadata": {},
   "outputs": [
    {
     "data": {
      "text/plain": [
       "(array([20., 27., 16., 25., 19., 16., 18., 12., 14.,  7.,  8.,  5.,  6.,\n",
       "         3.,  1.,  1.,  0.,  1.,  0.,  1.]),\n",
       " array([-1.39264649, -1.13095563, -0.86926477, -0.60757391, -0.34588305,\n",
       "        -0.08419219,  0.17749867,  0.43918953,  0.70088039,  0.96257125,\n",
       "         1.22426211,  1.48595297,  1.74764383,  2.00933469,  2.27102555,\n",
       "         2.53271641,  2.79440727,  3.05609813,  3.31778899,  3.57947985,\n",
       "         3.84117072]),\n",
       " <BarContainer object of 20 artists>)"
      ]
     },
     "execution_count": 9,
     "metadata": {},
     "output_type": "execute_result"
    },
    {
     "data": {
      "image/png": "[encoded data removed]",
      "text/plain": [
       "<Figure size 432x288 with 1 Axes>"
      ]
     },
     "metadata": {
      "needs_background": "light"
     },
     "output_type": "display_data"
    }
   ],
   "source": [
    "plt.hist(df_scaled[:,2],bins=20)"
   ]
  },
  {
   "cell_type": "code",
   "execution_count": 10,
   "id": "c3bf16ba",
   "metadata": {},
   "outputs": [
    {
     "data": {
      "text/plain": [
       "(array([ 1.,  1.,  3.,  6.,  9.,  8., 13., 17., 18., 11., 10., 20., 25.,\n",
       "         9., 17., 13.,  6.,  6.,  5.,  2.]),\n",
       " array([-2.5671329 , -2.32617663, -2.08522036, -1.84426409, -1.60330783,\n",
       "        -1.36235156, -1.12139529, -0.88043902, -0.63948276, -0.39852649,\n",
       "        -0.15757022,  0.08338605,  0.32434231,  0.56529858,  0.80625485,\n",
       "         1.04721112,  1.28816739,  1.52912365,  1.77007992,  2.01103619,\n",
       "         2.25199246]),\n",
       " <BarContainer object of 20 artists>)"
      ]
     },
     "execution_count": 10,
     "metadata": {},
     "output_type": "execute_result"
    },
    {
     "data": {
      "image/png": "[encoded data removed]",
      "text/plain": [
       "<Figure size 432x288 with 1 Axes>"
      ]
     },
     "metadata": {
      "needs_background": "light"
     },
     "output_type": "display_data"
    }
   ],
   "source": [
    "plt.hist(df_scaled[:,3],bins=20)"
   ]
  },
  {
   "cell_type": "markdown",
   "id": "7ce0c5ae",
   "metadata": {},
   "source": [
    "# Robust Scaling\n",
    "it is used to scale the feature to median and quantiles, Scaling using median and quantiles consists of subtracting the median to all the observation, and thenn dividing by the interquantile difference. The interquantile diffrence is the difference between the 75th and 25th quantile:\n",
    "\n",
    "IQR = 75the quantile - 25th quantile\n",
    "\n",
    "scaled = (X- X_median)/IQR"
   ]
  },
  {
   "cell_type": "code",
   "execution_count": 11,
   "id": "6a2eb681",
   "metadata": {},
   "outputs": [
    {
     "data": {
      "text/html": [
       "<div>\n",
       "<style scoped>\n",
       "    .dataframe tbody tr th:only-of-type {\n",
       "        vertical-align: middle;\n",
       "    }\n",
       "\n",
       "    .dataframe tbody tr th {\n",
       "        vertical-align: top;\n",
       "    }\n",
       "\n",
       "    .dataframe thead th {\n",
       "        text-align: right;\n",
       "    }\n",
       "</style>\n",
       "<table border=\"1\" class=\"dataframe\">\n",
       "  <thead>\n",
       "    <tr style=\"text-align: right;\">\n",
       "      <th></th>\n",
       "      <th>TV</th>\n",
       "      <th>Radio</th>\n",
       "      <th>Newspaper</th>\n",
       "      <th>Sales</th>\n",
       "    </tr>\n",
       "  </thead>\n",
       "  <tbody>\n",
       "    <tr>\n",
       "      <th>0</th>\n",
       "      <td>0.556248</td>\n",
       "      <td>0.561205</td>\n",
       "      <td>1.343122</td>\n",
       "      <td>0.757764</td>\n",
       "    </tr>\n",
       "    <tr>\n",
       "      <th>1</th>\n",
       "      <td>-0.728626</td>\n",
       "      <td>0.617702</td>\n",
       "      <td>0.598145</td>\n",
       "      <td>-0.695652</td>\n",
       "    </tr>\n",
       "    <tr>\n",
       "      <th>2</th>\n",
       "      <td>-0.917619</td>\n",
       "      <td>0.866290</td>\n",
       "      <td>1.346213</td>\n",
       "      <td>-0.496894</td>\n",
       "    </tr>\n",
       "    <tr>\n",
       "      <th>3</th>\n",
       "      <td>0.012115</td>\n",
       "      <td>0.693032</td>\n",
       "      <td>1.012365</td>\n",
       "      <td>0.062112</td>\n",
       "    </tr>\n",
       "    <tr>\n",
       "      <th>4</th>\n",
       "      <td>0.214953</td>\n",
       "      <td>-0.455744</td>\n",
       "      <td>1.009274</td>\n",
       "      <td>0.236025</td>\n",
       "    </tr>\n",
       "  </tbody>\n",
       "</table>\n",
       "</div>"
      ],
      "text/plain": [
       "         TV     Radio  Newspaper     Sales\n",
       "0  0.556248  0.561205   1.343122  0.757764\n",
       "1 -0.728626  0.617702   0.598145 -0.695652\n",
       "2 -0.917619  0.866290   1.346213 -0.496894\n",
       "3  0.012115  0.693032   1.012365  0.062112\n",
       "4  0.214953 -0.455744   1.009274  0.236025"
      ]
     },
     "execution_count": 11,
     "metadata": {},
     "output_type": "execute_result"
    }
   ],
   "source": [
    "from sklearn.preprocessing import RobustScaler\n",
    "scaler = RobustScaler()\n",
    "scaled = scaler.fit_transform(df)\n",
    "df_scaled = pd.DataFrame(scaled, columns=df.columns)\n",
    "df_scaled.head()"
   ]
  },
  {
   "cell_type": "code",
   "execution_count": 12,
   "id": "681a5fa4",
   "metadata": {},
   "outputs": [
    {
     "data": {
      "image/png": "[encoded data removed]",
      "text/plain": [
       "<Figure size 1440x432 with 4 Axes>"
      ]
     },
     "metadata": {
      "needs_background": "light"
     },
     "output_type": "display_data"
    }
   ],
   "source": [
    "fig, axes = plt.subplots(1,4, figsize=(20,6))\n",
    "for col, axis in zip(df_scaled.columns, axes):\n",
    "    df_scaled.hist(column=col, bins=20, ax=axis)"
   ]
  },
  {
   "cell_type": "markdown",
   "id": "82683b2f",
   "metadata": {},
   "source": [
    "# Guassian Transformation\n",
    "some machine learning algorithms like linear and logistic assume that the features are noramlly distributed --Accuracy, performance.\n",
    "\n",
    "if we want to check whether feature is guassian or normal distributed, use Q-Q plot."
   ]
  },
  {
   "cell_type": "code",
   "execution_count": 13,
   "id": "3ed74d88",
   "metadata": {},
   "outputs": [],
   "source": [
    "# import required labiries for QQ plot\n",
    "import scipy.stats as stat\n",
    "import pylab"
   ]
  },
  {
   "cell_type": "code",
   "execution_count": 14,
   "id": "0ec398e5",
   "metadata": {},
   "outputs": [],
   "source": [
    "def QQ_plot(df, variable):\n",
    "    plt.figure(figsize=(10,6))\n",
    "    plt.subplot(1,2,1)\n",
    "    df[variable].hist()\n",
    "    plt.subplot(1,2,2)\n",
    "    stat.probplot(df[variable], dist='norm',plot=pylab)\n",
    "    plt.show()"
   ]
  },
  {
   "cell_type": "code",
   "execution_count": 15,
   "id": "935bc5f4",
   "metadata": {},
   "outputs": [
    {
     "data": {
      "image/png": "[encoded data removed]",
      "text/plain": [
       "<Figure size 720x432 with 2 Axes>"
      ]
     },
     "metadata": {
      "needs_background": "light"
     },
     "output_type": "display_data"
    }
   ],
   "source": [
    "QQ_plot(df, 'Newspaper')"
   ]
  },
  {
   "cell_type": "markdown",
   "id": "dae5d299",
   "metadata": {},
   "source": [
    "We try to convert data into guassian using some technique"
   ]
  },
  {
   "cell_type": "markdown",
   "id": "82db357c",
   "metadata": {},
   "source": [
    "### 1. Logarithmic Transformation"
   ]
  },
  {
   "cell_type": "code",
   "execution_count": 16,
   "id": "82cc871f",
   "metadata": {},
   "outputs": [
    {
     "data": {
      "text/plain": [
       "0    4.237001\n",
       "1    3.808882\n",
       "2    4.238445\n",
       "3    4.069027\n",
       "4    4.067316\n",
       "Name: logNewspaper, dtype: float64"
      ]
     },
     "execution_count": 16,
     "metadata": {},
     "output_type": "execute_result"
    }
   ],
   "source": [
    "df['logNewspaper'] = np.log(df['Newspaper'])\n",
    "df['logNewspaper'].head()"
   ]
  },
  {
   "cell_type": "code",
   "execution_count": 17,
   "id": "8e2087d8",
   "metadata": {},
   "outputs": [
    {
     "data": {
      "image/png": "[encoded data removed]",
      "text/plain": [
       "<Figure size 720x432 with 2 Axes>"
      ]
     },
     "metadata": {
      "needs_background": "light"
     },
     "output_type": "display_data"
    }
   ],
   "source": [
    "QQ_plot(df, 'logNewspaper')"
   ]
  },
  {
   "cell_type": "markdown",
   "id": "06a6d3bd",
   "metadata": {},
   "source": [
    "### 2. Reciprocal Transformation"
   ]
  },
  {
   "cell_type": "code",
   "execution_count": 18,
   "id": "3c316025",
   "metadata": {},
   "outputs": [
    {
     "data": {
      "image/png": "[encoded data removed]",
      "text/plain": [
       "<Figure size 720x432 with 2 Axes>"
      ]
     },
     "metadata": {
      "needs_background": "light"
     },
     "output_type": "display_data"
    }
   ],
   "source": [
    "QQ_plot(df, 'TV')"
   ]
  },
  {
   "cell_type": "code",
   "execution_count": 19,
   "id": "c4ed3928",
   "metadata": {},
   "outputs": [
    {
     "data": {
      "image/png": "[encoded data removed]",
      "text/plain": [
       "<Figure size 720x432 with 2 Axes>"
      ]
     },
     "metadata": {
      "needs_background": "light"
     },
     "output_type": "display_data"
    }
   ],
   "source": [
    "# inverse of variable\n",
    "df['reciTV'] = 1/df.TV\n",
    "QQ_plot(df, 'reciTV')"
   ]
  },
  {
   "cell_type": "markdown",
   "id": "3a0319dc",
   "metadata": {},
   "source": [
    "### 3. Square Root Tranformation"
   ]
  },
  {
   "cell_type": "code",
   "execution_count": 20,
   "id": "a87a7be5",
   "metadata": {},
   "outputs": [
    {
     "data": {
      "image/png": "[encoded data removed]",
      "text/plain": [
       "<Figure size 720x432 with 2 Axes>"
      ]
     },
     "metadata": {
      "needs_background": "light"
     },
     "output_type": "display_data"
    }
   ],
   "source": [
    "df['sRNewspaper'] = df.Newspaper**(1/2)\n",
    "QQ_plot(df, 'sRNewspaper')"
   ]
  },
  {
   "cell_type": "markdown",
   "id": "f0feae94",
   "metadata": {},
   "source": [
    "<i>WoW, Newpaper feature is noramlly distributed .<i>"
   ]
  },
  {
   "cell_type": "markdown",
   "id": "628b099f",
   "metadata": {},
   "source": [
    "### 4. Exponential Transformation"
   ]
  },
  {
   "cell_type": "code",
   "execution_count": 21,
   "id": "0f777ad6",
   "metadata": {},
   "outputs": [
    {
     "data": {
      "image/png": "[encoded data removed]",
      "text/plain": [
       "<Figure size 720x432 with 2 Axes>"
      ]
     },
     "metadata": {
      "needs_background": "light"
     },
     "output_type": "display_data"
    }
   ],
   "source": [
    "df['expoTV'] = df.TV**(1/1.2)\n",
    "QQ_plot(df, 'expoTV')"
   ]
  },
  {
   "cell_type": "markdown",
   "id": "fa37bdeb",
   "metadata": {},
   "source": [
    "### 5. Box Cox Transformation"
   ]
  },
  {
   "cell_type": "markdown",
   "id": "bdeb509b",
   "metadata": {},
   "source": [
    "T(Y) = (Y exp(λ)-1)/λ\n",
    "\n",
    "Where Y is the response variable and λ is the transformation parameter. λ varies from -5 to 5.\n",
    "In the tranformation, all values of λ are considered and the optimal value for a\n",
    "given variable is selected."
   ]
  },
  {
   "cell_type": "code",
   "execution_count": 22,
   "id": "f198adfe",
   "metadata": {},
   "outputs": [
    {
     "data": {
      "image/png": "[encoded data removed]",
      "text/plain": [
       "<Figure size 720x432 with 2 Axes>"
      ]
     },
     "metadata": {
      "needs_background": "light"
     },
     "output_type": "display_data"
    }
   ],
   "source": [
    "QQ_plot(df, 'Newspaper')"
   ]
  },
  {
   "cell_type": "code",
   "execution_count": 23,
   "id": "a1bda829",
   "metadata": {},
   "outputs": [
    {
     "data": {
      "image/png": "[encoded data removed]",
      "text/plain": [
       "<Figure size 720x432 with 2 Axes>"
      ]
     },
     "metadata": {
      "needs_background": "light"
     },
     "output_type": "display_data"
    }
   ],
   "source": [
    "df['bcNewspaper'], para = stat.boxcox(df['Newspaper'])\n",
    "QQ_plot(df, 'bcNewspaper')"
   ]
  },
  {
   "cell_type": "code",
   "execution_count": 24,
   "id": "e403e5f5",
   "metadata": {},
   "outputs": [
    {
     "name": "stdout",
     "output_type": "stream",
     "text": [
      "0.419642754215746\n"
     ]
    }
   ],
   "source": [
    "print(para)"
   ]
  },
  {
   "cell_type": "code",
   "execution_count": null,
   "id": "fcbb6569",
   "metadata": {},
   "outputs": [],
   "source": []
  }
 ],
 "metadata": {
  "kernelspec": {
   "display_name": "Python 3 (ipykernel)",
   "language": "python",
   "name": "python3"
  },
  "language_info": {
   "codemirror_mode": {
    "name": "ipython",
    "version": 3
   },
   "file_extension": ".py",
   "mimetype": "text/x-python",
   "name": "python",
   "nbconvert_exporter": "python",
   "pygments_lexer": "ipython3",
   "version": "3.10.4"
  }
 },
 "nbformat": 4,
 "nbformat_minor": 5
}
